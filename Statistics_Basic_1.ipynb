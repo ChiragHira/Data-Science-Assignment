{
  "nbformat": 4,
  "nbformat_minor": 0,
  "metadata": {
    "colab": {
      "provenance": []
    },
    "kernelspec": {
      "name": "python3",
      "display_name": "Python 3"
    },
    "language_info": {
      "name": "python"
    }
  },
  "cells": [
    {
      "cell_type": "markdown",
      "source": [
        "**Q1. What is Statistics?**\\\n",
        "Ans Statistics is the sense of collecting,organizing and analyzing the data."
      ],
      "metadata": {
        "id": "lRmqzS3JJ2R9"
      }
    },
    {
      "cell_type": "markdown",
      "source": [
        "**Q2.Define the different types of statistics and give an example of when each type might be used**.\\\n",
        "Ans.1. **Descriptive Statistics**\\\n",
        "Descriptive statistics summarize and describe the main features of a dataset in a quantitative manner. They provide insights into the dataset's structure and patterns without making conclusions about the population from which the data was drawn.\n",
        "\n",
        "Types:\n",
        "\n",
        "\n",
        "1.   Measures of Central Tendency (e.g., Mean, Median, Mode): Identify the center of the dataset.\n",
        "2.   Measures of Dispersion (e.g., Range, Variance, Standard Deviation): Understand the spread of data.\n",
        "\n",
        "\n",
        "Example:\\\n",
        "In a class of students, calculating the average score (mean) of their exam results to assess the general performance of the class.\n",
        "\n",
        "**2.Inferential Statistics**\\\n",
        "Inferential statistics involve drawing conclusions, making predictions, or testing hypotheses about a population based on sample data. It uses probability theory to determine the reliability of conclusions.\n",
        "\n",
        "Types:\n",
        "Estimation (e.g., Confidence Intervals): Predict parameters of a population.\n",
        "Hypothesis Testing (e.g., t-tests, chi-square tests): Test assumptions about population characteristics.\n",
        "Regression Analysis (e.g., Linear Regression): Explore relationships between variables.\\\n",
        "Example:\n",
        "Polling a sample of voters from a city to estimate the percentage of people favoring a candidate for an upcoming election.\n"
      ],
      "metadata": {
        "id": "gEvrIxpTKbOF"
      }
    },
    {
      "cell_type": "markdown",
      "source": [
        "**Q3. What are the different types of data and how do they differ from each other? Provide an example of each type of data?**\\\n",
        "Ans.\n",
        "Data can be classified into two main types: Quantitative Data and Qualitative Data. These types differ based on the characteristics they represent and how they are measured. Below is an explanation of each type and its subtypes, along with examples.\n",
        "\n",
        "**Qualitative Data (Categorical Data)**\\\n",
        "Qualitative data represent characteristics or categories and describe attributes that cannot be measured numerically.\n",
        "\n",
        "*  Nominal Data: Categories with no inherent order.\n",
        "   *  Example: Eye color (e.g., blue, green, brown).\n",
        "*  Ordinal Data: Categories with a meaningful order or ranking but no fixed intervals.\n",
        "   * Example: Education levels (e.g., high school, bachelor’s degree, master’s degree).\n",
        "\n",
        "   \n",
        "**Quantitative Data (Numerical Data)**\\\n",
        "Quantitative data represent numerical values and are measurable.\n",
        "\n",
        "Types:\n",
        "* Discrete Data: Countable values, often whole numbers.\\\n",
        "  * Example: The number of students in a classroom (e.g., 25, 30).\n",
        "\n",
        "* Continuous Data: Values within a range, capable of decimals or fractions.\\\n",
        "  * Example: The height of a person (e.g., 5.7 feet, 160.5 cm)."
      ],
      "metadata": {
        "id": "ZZgtu3GHLirg"
      }
    },
    {
      "cell_type": "markdown",
      "source": [
        "**Q4. Categorise the following datasets with respect to quantitative and qualitative data types:**\n",
        "1. Grading in exam: A+, A, B+, B, C+, C, D, E ---> Categorical\n",
        "2. Colour of mangoes: yellow, green, orange, red  ---> Categorical\n",
        "3. Height data of a class: [178.9, 179, 179.5, 176, 177.2, 178.3, 175.8,...] ---> Numerical\n",
        "3. Number of mangoes exported by a farm: [500, 600, 478, 672, ...] --->Numerical"
      ],
      "metadata": {
        "id": "52aMr-CJNg8u"
      }
    },
    {
      "cell_type": "markdown",
      "source": [
        "**Q5. Explain the concept of levels of measurement and give an example of a variable for each level.**\\\n",
        "Ans.The levels of measurement describe how variables are categorized, measured, and interpreted in statistics. There are four levels, each defining the mathematical properties of the data.\n",
        "\n",
        "1. Nominal Level\n",
        "Definition: Represents categories without a specific order or ranking. These are purely qualitative.\n",
        "Characteristics:\n",
        "Categories are distinct and mutually exclusive.\n",
        "No numerical or logical ordering exists.\n",
        "Example:\n",
        "\n",
        "Variable: Marital Status\n",
        "Categories: Single, Married, Divorced\n",
        "2. Ordinal Level\n",
        "Definition: Represents categories with a meaningful order, but the intervals between categories are not fixed or measurable.\n",
        "Characteristics:\n",
        "Rankable, but differences between values are not quantifiable.\n",
        "Example:\n",
        "\n",
        "Variable: Education Level\n",
        "Categories: High School < Bachelor’s Degree < Master’s Degree < PhD\n",
        "3. Interval Level\n",
        "Definition: Numerical data with ordered values and fixed intervals between them, but no true zero point exists (zero does not mean \"absence of value\").\n",
        "Characteristics:\n",
        "Differences between values are meaningful.\n",
        "Cannot compute ratios.\n",
        "Example:\n",
        "\n",
        "Variable: Temperature (Celsius or Fahrenheit)\n",
        "Difference between 20°C and 30°C is the same as between 30°C and 40°C.\n",
        "Zero does not mean \"no temperature.\"\n",
        "4. Ratio Level\n",
        "Definition: Numerical data with ordered values, fixed intervals, and a meaningful zero point (zero indicates \"absence of value\").\n",
        "Characteristics:\n",
        "Allows meaningful comparisons like ratios (e.g., twice as much).\n",
        "Example:\n",
        "\n",
        "Variable: Weight\n",
        "A person weighing 60 kg is twice as heavy as one weighing 30 kg.\n",
        "Zero indicates no weight."
      ],
      "metadata": {
        "id": "adchZuiTPQzn"
      }
    },
    {
      "cell_type": "markdown",
      "source": [
        "**Q6. Why is it important to understand the level of measurement when analyzing data? Provide an example to illustrate your answer.**\\\n",
        "Ans Understanding the level of measurement is critical when analyzing data because it determines the type of statistical analysis and operations you can apply. Using inappropriate methods for a given level can lead to invalid or misleading conclusions.\n",
        "\n",
        "\n",
        "1. Appropriate Statistical Tests:\n",
        "Different levels of measurement require different statistical techniques (e.g., you can't calculate a mean for nominal data).\n",
        "2. Validity of Results:\n",
        "Using incorrect operations (e.g., computing a ratio for interval-level data) can produce meaningless results.\n",
        "3. Choice of Visualization:\n",
        "The level dictates the most suitable data representation (e.g., bar charts for nominal data, scatterplots for ratio data).\n",
        "\n",
        "Scenario:\n",
        "A researcher is analyzing student performance in a school based on two variables:\n",
        "\n",
        "Grade Level (ordinal): e.g., A++,A,B++,B,C,D\\\n",
        "Test Scores (ratio): Numerical scores between 0 and 100\\\n",
        "Incorrect Analysis:\n",
        "Applying a mean or standard deviation to Grade Level would be meaningless, as the intervals between levels (e.g, A++,A) are not equal.\n",
        "\n",
        "Correct Analysis:\n",
        "Use the mode or frequency counts for Grade Level to observe how many students fall into each category.\n",
        "For Test Scores, apply the mean or standard deviation to measure average performance or variability.\n"
      ],
      "metadata": {
        "id": "DXVL1y7SPjfr"
      }
    },
    {
      "cell_type": "markdown",
      "source": [
        "**Q7. How nominal data type is different from ordinal data type.**\\\n",
        "Nominal Data is purely categorical and used to label or classify without any hierarchy.\n",
        "Ordinal Data provides additional information with a logical sequence or rank but does not measure exact differences between the categories."
      ],
      "metadata": {
        "id": "vJKLHyZ8REHs"
      }
    },
    {
      "cell_type": "markdown",
      "source": [
        "**Q8. Which type of plot can be used to display data in terms of range?**\\\n",
        "Ans Box plot"
      ],
      "metadata": {
        "id": "WG0Gpy5dRaVq"
      }
    },
    {
      "cell_type": "markdown",
      "source": [
        "**Q9. Describe the difference between descriptive and inferential statistics. Give an example of each type of statistics and explain how they are used.**\\\n",
        "Ans\n",
        "1. Descriptive Statistics\n",
        "Descriptive statistics summarize and present data in a way that is easy to understand. They describe the main features of a dataset without making generalizations beyond the data at hand.\n",
        "\n",
        " Key Features:\n",
        "Focuses on summarizing data.\n",
        "Does not infer or predict about the population.\n",
        "Includes measures of central tendency (mean, median, mode) and measures of dispersion (range, variance, standard deviation).\n",
        "Example:\n",
        "A teacher calculates the average test score of a class (e.g., mean = 75 out of 100).\n",
        "Use: Understand the overall performance of students within that particular class.\n",
        "2. Inferential Statistics\n",
        "Inferential statistics involve drawing conclusions, making predictions, or testing hypotheses about a population based on a sample of data.\n",
        "\n",
        " Key Features:\n",
        " Uses probability theory to make predictions or generalizations.\n",
        " Involves methods like hypothesis testing, confidence intervals, and regression analysis.\n",
        " Example:\n",
        " A political analyst surveys 500 voters (a sample) to estimate the percentage of voters supporting a candidate in a city.\n",
        " Use: Make a prediction about all voters (population) based on the sample.\n"
      ],
      "metadata": {
        "id": "OvfqTKBuRrnO"
      }
    },
    {
      "cell_type": "markdown",
      "source": [
        "**Q10. What are some common measures of central tendency and variability used in statistics? Explain how each measure can be used to describe a dataset.**\n",
        "\n",
        "**Measures of Central Tendency**\n",
        "    \n",
        "  Central tendency measures indicate the central point or typical value in a dataset.\n",
        "\n",
        "1. Mean (Arithmetic Average)\n",
        "Definition: The sum of all values divided by the number of observations.\n",
        "Usage:\n",
        "Used when data is evenly distributed without extreme outliers.\n",
        "Example: Average income in a company to estimate typical employee earnings.\n",
        "2. Median\n",
        "Definition: The middle value in a sorted dataset.\n",
        "Usage:\n",
        "Useful when the dataset contains outliers or is skewed.\n",
        "Example: Median house prices to avoid distortion from extremely high-value properties.\n",
        "3. Mode\n",
        "Definition: The most frequently occurring value(s) in the dataset.\n",
        "Usage:\n",
        "Used for categorical or discrete data to identify common occurrences.\n",
        "Example: Most popular product sold in a store.\n",
        "\n",
        "**Measures of Variability (Dispersion)**\n",
        "\n",
        "Variability measures describe the spread or distribution of the data values.\n",
        "\n",
        "1. Range\n",
        "Definition: The difference between the maximum and minimum values.\n",
        "Usage:\n",
        "Provides a quick sense of the data spread but can be influenced by outliers.\n",
        "Example: Range of temperatures over a week to indicate variability in weather.\n",
        "2. Variance\n",
        "Definition: The average of the squared differences from the mean.\n",
        "Usage:\n",
        "Indicates how data points deviate from the mean.\n",
        "Example: Analyzing variability in student test scores.\n",
        "3. Standard Deviation (SD)\n",
        "Definition: The square root of variance. It measures the typical deviation from the mean.\n",
        "Usage:\n",
        "Preferred over variance due to its interpretability in the same units as the data.\n",
        "Example: Used in finance to measure stock price volatility.\n",
        "4. Interquartile Range (IQR)\n",
        "Definition: The range between the first (Q1) and third quartile (Q3), capturing the middle 50% of data.\n",
        "Usage:\n",
        "Reduces the influence of outliers.\n",
        "Example: Analyze income data, focusing on middle-range earners while ignoring extremes.\n"
      ],
      "metadata": {
        "id": "StDzzJSBSOLO"
      }
    }
  ]
}